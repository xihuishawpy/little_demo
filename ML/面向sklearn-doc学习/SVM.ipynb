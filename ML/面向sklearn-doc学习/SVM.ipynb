{
 "cells": [
  {
   "cell_type": "markdown",
   "metadata": {},
   "source": [
    "## SVM \n",
    "\n",
    "![20220707232244](https://cdn.jsdelivr.net/gh/xihuishawpy/PicBad@main/blogs/pictures/20220707232244.png)"
   ]
  },
  {
   "cell_type": "code",
   "execution_count": 1,
   "metadata": {},
   "outputs": [],
   "source": [
    "import numpy as np\n",
    "import pandas as pd \n",
    "import warnings\n",
    "warnings.filterwarnings('ignore')\n",
    "\n",
    "from sklearn.datasets import load_boston,load_iris\n",
    "\n",
    "li = load_iris()\n",
    "features2 = li.feature_names\n",
    "x_cls ,y_cls = li.data,li.target\n",
    "x_cls = pd.DataFrame(x_cls,columns=features2)\n",
    "y_cls = pd.DataFrame(y_cls,columns=['target'])"
   ]
  },
  {
   "cell_type": "markdown",
   "metadata": {},
   "source": [
    "支持向量分类-- LinearSVC "
   ]
  },
  {
   "cell_type": "markdown",
   "metadata": {},
   "source": [
    "LinearSVC 类似于参数kernel= linear的SVC(弃用这个，SVC基于libsvm，拟合时间至少与样本数量成二次关系，如果样本数量超过数万个，拟合时间可能不现实)，但是它是liblinear而不是libsvm实现的，所以它`在惩罚函数和损失函数的选择上更灵活`，`更适合大样本`。"
   ]
  },
  {
   "cell_type": "code",
   "execution_count": 8,
   "metadata": {},
   "outputs": [
    {
     "data": {
      "text/plain": [
       "0.9666666666666667"
      ]
     },
     "execution_count": 8,
     "metadata": {},
     "output_type": "execute_result"
    }
   ],
   "source": [
    "from sklearn.model_selection import train_test_split\n",
    "from sklearn.metrics import r2_score,accuracy_score,mean_absolute_error,roc_auc_score,mean_squared_error\n",
    "from sklearn import svm\n",
    "\n",
    "X_cls_train,X_cls_test,y_cls_train,y_cls_test = train_test_split(x_cls,y_cls,random_state=2022,test_size=0.2)\n",
    "\n",
    "# 可用 SGDClassifier(loss='hinge') 替换\n",
    "clf = svm.LinearSVC(penalty='l2',random_state=2022,tol=1e-5) # tol ，设置停止的条件\n",
    "clf.fit(X_cls_train,y_cls_train)\n",
    "clf.coef_,clf.classes_\n",
    "\n",
    "# 省略测试集预测过程\n",
    "clf.predict(X_cls_test)\n",
    "clf.score(X_cls_train,y_cls_train)"
   ]
  },
  {
   "cell_type": "markdown",
   "metadata": {},
   "source": [
    "支持向量回归 -- SVR、LinearSVR"
   ]
  },
  {
   "cell_type": "code",
   "execution_count": 9,
   "metadata": {},
   "outputs": [],
   "source": [
    "lb = load_boston()\n",
    "features = lb.feature_names\n",
    "x_reg ,y_reg = lb.data,lb.target\n",
    "x_reg = pd.DataFrame(x_reg,columns=features)\n",
    "y_reg = pd.DataFrame(y_reg,columns=['target'])\n",
    "\n",
    "X_reg_train,X_reg_test,y_reg_train,y_reg_test = train_test_split(x_reg,y_reg,random_state=2022,test_size=0.2)"
   ]
  },
  {
   "cell_type": "code",
   "execution_count": 16,
   "metadata": {},
   "outputs": [
    {
     "data": {
      "text/plain": [
       "0.3892433990699323"
      ]
     },
     "execution_count": 16,
     "metadata": {},
     "output_type": "execute_result"
    }
   ],
   "source": [
    "reg_svm  = svm.LinearSVR(C=1,random_state=2022)\n",
    "reg_svm.fit(X_reg_train,y_reg_train)\n",
    "reg_svm.score(X_reg_train,y_reg_train)\n",
    "\n",
    "y_reg_pred = reg_svm.predict(X_reg_test)\n",
    "r2_score(y_reg_test,y_reg_pred)"
   ]
  },
  {
   "cell_type": "markdown",
   "metadata": {},
   "source": [
    "注意：\n",
    "\n",
    "支持向量机不能容忍非标准化数据， 所以**需要标准数据**。\n",
    "\n",
    "- 比如，将输入向量X上的每个属性缩放为[0，1]或[-1，+1]，或将其标准化为均值为0和方差为1。注意，同样的缩放必须应用于测试集向量以获得有意义的结果。\n",
    "\n",
    "如果数据是不平衡的(例如，许多正类和少量类)，设置 class_weight='balanced'或尝试不同的惩罚参数C。"
   ]
  }
 ],
 "metadata": {
  "kernelspec": {
   "display_name": "Python 3.8.3 ('base')",
   "language": "python",
   "name": "python3"
  },
  "language_info": {
   "codemirror_mode": {
    "name": "ipython",
    "version": 3
   },
   "file_extension": ".py",
   "mimetype": "text/x-python",
   "name": "python",
   "nbconvert_exporter": "python",
   "pygments_lexer": "ipython3",
   "version": "3.8.3"
  },
  "orig_nbformat": 4,
  "vscode": {
   "interpreter": {
    "hash": "7758e92e9a61d7a3490898707f7eeb937c85e9d1e8d4e877cc6c187218f226d5"
   }
  }
 },
 "nbformat": 4,
 "nbformat_minor": 2
}
