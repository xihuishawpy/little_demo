{
 "cells": [
  {
   "cell_type": "markdown",
   "metadata": {},
   "source": [
    "![20220719094116](https://cdn.jsdelivr.net/gh/xihuishawpy/PicBad@main/blogs/pictures/20220719094116.png)\n",
    "\n",
    "k-fold CV:\n",
    "\n",
    "![20220719094414](https://cdn.jsdelivr.net/gh/xihuishawpy/PicBad@main/blogs/pictures/20220719094414.png)"
   ]
  },
  {
   "cell_type": "code",
   "execution_count": 13,
   "metadata": {},
   "outputs": [],
   "source": [
    "from sklearn.datasets import load_boston\n",
    "from sklearn.model_selection import train_test_split\n",
    "import pandas as pd \n",
    "import warnings\n",
    "warnings.filterwarnings('ignore')\n",
    "\n",
    "lb = load_boston()\n",
    "X = pd.DataFrame(lb.data,columns=lb.feature_names)\n",
    "y = lb.target\n",
    "\n",
    "X_train , X_test, y_train ,y_test = train_test_split(X,y,random_state=2022,test_size=0.2)\n"
   ]
  },
  {
   "cell_type": "code",
   "execution_count": 17,
   "metadata": {},
   "outputs": [
    {
     "data": {
      "text/plain": [
       "array([ 0.63919994,  0.71386698,  0.58702344,  0.07923081, -0.25294154])"
      ]
     },
     "execution_count": 17,
     "metadata": {},
     "output_type": "execute_result"
    }
   ],
   "source": [
    "from sklearn.model_selection import cross_val_score\n",
    "from sklearn.linear_model import LinearRegression\n",
    "\n",
    "lr = LinearRegression()\n",
    "scores = cross_val_score(lr,X,y,scoring='r2',cv=5)\n",
    "scores"
   ]
  },
  {
   "cell_type": "markdown",
   "metadata": {},
   "source": [
    "## CV迭代器"
   ]
  },
  {
   "cell_type": "markdown",
   "metadata": {},
   "source": [
    "![20220719102631](https://cdn.jsdelivr.net/gh/xihuishawpy/PicBad@main/blogs/pictures/20220719102631.png)"
   ]
  },
  {
   "cell_type": "code",
   "execution_count": 62,
   "metadata": {},
   "outputs": [
    {
     "name": "stdout",
     "output_type": "stream",
     "text": [
      "[1 2 3 4 5 6 7 8 9] [0]\n",
      "[0 2 3 4 5 6 7 8 9] [1]\n",
      "[0 1 3 4 5 6 7 8 9] [2]\n",
      "[0 1 2 4 5 6 7 8 9] [3]\n",
      "[0 1 2 3 5 6 7 8 9] [4]\n",
      "[0 1 2 3 4 6 7 8 9] [5]\n",
      "[0 1 2 3 4 5 7 8 9] [6]\n",
      "[0 1 2 3 4 5 6 8 9] [7]\n",
      "[0 1 2 3 4 5 6 7 9] [8]\n",
      "[0 1 2 3 4 5 6 7 8] [9]\n"
     ]
    }
   ],
   "source": [
    "# K fold\n",
    "\n",
    "import numpy as np\n",
    "from sklearn.model_selection import KFold\n",
    "\n",
    "X = np.arange(10)\n",
    "kf = KFold(n_splits=10)\n",
    "for train, test in kf.split(X):\n",
    "    print(f\"{train} {test}\")"
   ]
  },
  {
   "cell_type": "code",
   "execution_count": 39,
   "metadata": {},
   "outputs": [
    {
     "name": "stdout",
     "output_type": "stream",
     "text": [
      "[0 1 3] [2]\n",
      "[0 1 2] [3]\n",
      "[1 2 3] [0]\n",
      "[0 2 3] [1]\n",
      "[0 1 2] [3]\n",
      "[0 1 3] [2]\n",
      "[0 2 3] [1]\n",
      "[1 2 3] [0]\n"
     ]
    }
   ],
   "source": [
    "# Repeated K-Fold 重复K-Foldn次\n",
    "\n",
    "import numpy as np\n",
    "from sklearn.model_selection import RepeatedKFold\n",
    "\n",
    "X = np.array([[1, 2], [3, 4], [1, 2], [3, 4]])\n",
    "\n",
    "# 2次 k-fold\n",
    "rkf = RepeatedKFold(n_splits=4, n_repeats=2, random_state=2022)\n",
    "for train, test in rkf.split(X):\n",
    "    print(f\"{train} {test}\")"
   ]
  },
  {
   "cell_type": "markdown",
   "metadata": {},
   "source": [
    "![20220719102650](https://cdn.jsdelivr.net/gh/xihuishawpy/PicBad@main/blogs/pictures/20220719102650.png)\n",
    "\n",
    "ShuffleSplit 验证集可能会有重复"
   ]
  },
  {
   "cell_type": "code",
   "execution_count": 49,
   "metadata": {},
   "outputs": [
    {
     "name": "stdout",
     "output_type": "stream",
     "text": [
      "[8 4 9 1 6 7 3 0 5] [2]\n",
      "[5 1 2 9 8 0 6 7 4] [3]\n",
      "[3 8 4 5 1 0 6 9 7] [2]\n",
      "[1 9 2 7 5 8 0 3 4] [6]\n",
      "[2 7 4 1 0 6 8 9 3] [5]\n",
      "[8 9 5 2 6 3 7 4 0] [1]\n",
      "[2 1 7 8 6 5 4 9 0] [3]\n",
      "[9 2 3 5 6 7 1 8 4] [0]\n",
      "[8 9 1 4 5 3 6 0 2] [7]\n",
      "[2 5 0 8 3 7 9 6 4] [1]\n"
     ]
    }
   ],
   "source": [
    "# 先shuffle数据集，再划分\n",
    "\n",
    "from sklearn.model_selection import ShuffleSplit\n",
    "\n",
    "X = np.arange(10)\n",
    "ss = ShuffleSplit(n_splits=10, random_state=0)\n",
    "\n",
    "for train_index, test_index in ss.split(X):\n",
    "    print(f\"{train_index} {test_index}\")"
   ]
  },
  {
   "cell_type": "code",
   "execution_count": 55,
   "metadata": {},
   "outputs": [
    {
     "name": "stdout",
     "output_type": "stream",
     "text": [
      "-----分层kfold----------------\n",
      "train -  [30  3]   |   test -  [15  2]\n",
      "train -  [30  3]   |   test -  [15  2]\n",
      "train -  [30  4]   |   test -  [15  1]\n",
      "-----kfold--------------------\n",
      "train -  [28  5]   |   test -  [17]\n",
      "train -  [28  5]   |   test -  [17]\n",
      "train -  [34]   |   test -  [11  5]\n"
     ]
    }
   ],
   "source": [
    "# 基于类标签的分层划分\n",
    "# 当负面样本可能比正面样本多几倍。\n",
    "# 建议使用StratifiedKFold和StratifiedShuffleSplit中实现的分层抽样，以确保在每个训练和验证集中大致保持相对的类别频率\n",
    "\n",
    "from sklearn.model_selection import StratifiedKFold, KFold\n",
    "import numpy as np\n",
    "\n",
    "X, y = np.ones((50, 1)), np.hstack(([0] * 45, [1] * 5))\n",
    "\n",
    "print('-----分层kfold----------------')\n",
    "skf = StratifiedKFold(n_splits=3)\n",
    "for train, test in skf.split(X, y):\n",
    "    print(f'train -  {np.bincount(y[train])}   |   test -  {np.bincount(y[test])}')\n",
    "\n",
    "\n",
    "print('-----kfold--------------------')\n",
    "kf = KFold(n_splits=3)\n",
    "for train, test in kf.split(X, y):\n",
    "    print(f'train -  {np.bincount(y[train])}   |   test -  {np.bincount(y[test])}')"
   ]
  },
  {
   "cell_type": "markdown",
   "metadata": {},
   "source": [
    "![20220719103900](https://cdn.jsdelivr.net/gh/xihuishawpy/PicBad@main/blogs/pictures/20220719103900.png)"
   ]
  },
  {
   "cell_type": "code",
   "execution_count": 60,
   "metadata": {},
   "outputs": [
    {
     "name": "stdout",
     "output_type": "stream",
     "text": [
      "TimeSeriesSplit(gap=0, max_train_size=None, n_splits=3, test_size=None)\n",
      "[0 1 2] [3]\n",
      "[0 1 2 3] [4]\n",
      "[0 1 2 3 4] [5]\n"
     ]
    }
   ],
   "source": [
    "# 基于时间序列的划分\n",
    "\n",
    "from sklearn.model_selection import TimeSeriesSplit\n",
    "\n",
    "X = np.array([[1, 2], [3, 4], [1, 2], [3, 4], [1, 2], [3, 4]])\n",
    "y = np.array([1, 2, 3, 4, 5, 6])\n",
    "tscv = TimeSeriesSplit(n_splits=3)\n",
    "print(tscv)\n",
    "\n",
    "for train, test in tscv.split(X):\n",
    "    print(f\"{train} {test}\")"
   ]
  },
  {
   "cell_type": "markdown",
   "metadata": {},
   "source": [
    "## 排列测试 -- permutation_test_score\n",
    "\n",
    "其实 特征排序重要性，和这个也有些类似"
   ]
  },
  {
   "cell_type": "code",
   "execution_count": 66,
   "metadata": {},
   "outputs": [],
   "source": [
    "from sklearn.datasets import load_iris\n",
    "\n",
    "iris = load_iris()\n",
    "X = iris.data\n",
    "y = iris.target"
   ]
  },
  {
   "cell_type": "code",
   "execution_count": 67,
   "metadata": {},
   "outputs": [
    {
     "data": {
      "text/plain": [
       "array([[ 1.76405235,  0.40015721,  0.97873798, ..., -0.20515826,\n",
       "         0.3130677 , -0.85409574],\n",
       "       [-2.55298982,  0.6536186 ,  0.8644362 , ...,  1.20237985,\n",
       "        -0.38732682, -0.30230275],\n",
       "       [-1.04855297, -1.42001794, -1.70627019, ...,  0.3024719 ,\n",
       "        -0.63432209, -0.36274117],\n",
       "       ...,\n",
       "       [ 0.12955452, -1.40596708,  1.17941998, ...,  0.79554955,\n",
       "        -0.11496177,  0.49585067],\n",
       "       [-1.32052535,  0.49908428,  0.3062034 , ...,  1.07230065,\n",
       "        -0.50370944, -0.58701629],\n",
       "       [-0.37817805,  0.8528891 , -2.14811848, ..., -0.19240421,\n",
       "        -1.21251574, -0.08059852]])"
      ]
     },
     "execution_count": 67,
     "metadata": {},
     "output_type": "execute_result"
    }
   ],
   "source": [
    "import numpy as np\n",
    "\n",
    "n_uncorrelated_features = 20\n",
    "rng = np.random.RandomState(seed=0)\n",
    "\n",
    "# 使用与上面数据集相同数量的样本和20个特征\n",
    "X_rand = rng.normal(size=(X.shape[0], n_uncorrelated_features))\n",
    "X_rand"
   ]
  },
  {
   "cell_type": "markdown",
   "metadata": {},
   "source": [
    "使用原始数据集计算permutation_test_score，该数据集强烈预测标签，而随机生成的特征和标签，在特征和标签之间应该没有依赖关系。"
   ]
  },
  {
   "cell_type": "code",
   "execution_count": 68,
   "metadata": {},
   "outputs": [],
   "source": [
    "from sklearn.svm import SVC\n",
    "from sklearn.model_selection import StratifiedKFold\n",
    "from sklearn.model_selection import permutation_test_score\n",
    "\n",
    "clf = SVC(kernel=\"linear\", random_state=7)\n",
    "cv = StratifiedKFold(2, shuffle=True, random_state=0)\n",
    "\n",
    "score_iris, perm_scores_iris, pvalue_iris = permutation_test_score(\n",
    "    clf, X, y, scoring=\"accuracy\", cv=cv, n_permutations=1000\n",
    ")\n",
    "\n",
    "score_rand, perm_scores_rand, pvalue_rand = permutation_test_score(\n",
    "    clf, X_rand, y, scoring=\"accuracy\", cv=cv, n_permutations=1000\n",
    ")"
   ]
  },
  {
   "cell_type": "markdown",
   "metadata": {},
   "source": [
    "红线表示分类器在原始数据上得到的分数。这个分数要比使用互换数据得到的分数好得多，因此P值非常低。这表明，`仅凭偶然性就能获得如此好的分数的可能性很低`。\n",
    "\n",
    "`证明了数据集包含特征和标签之间的真正依赖性`，分类器能够利用这一点获得良好的结果。"
   ]
  },
  {
   "cell_type": "code",
   "execution_count": 69,
   "metadata": {},
   "outputs": [
    {
     "data": {
      "image/png": "[encoded data removed]",
      "text/plain": [
       "<Figure size 432x288 with 1 Axes>"
      ]
     },
     "metadata": {
      "needs_background": "light"
     },
     "output_type": "display_data"
    }
   ],
   "source": [
    "import matplotlib.pyplot as plt\n",
    "\n",
    "fig, ax = plt.subplots()\n",
    "\n",
    "ax.hist(perm_scores_iris, bins=20, density=True)\n",
    "ax.axvline(score_iris, ls=\"--\", color=\"r\")\n",
    "score_label = f\"Score on original\\ndata: {score_iris:.2f}\\n(p-value: {pvalue_iris:.3f})\"\n",
    "ax.text(0.7, 10, score_label, fontsize=12)\n",
    "ax.set_xlabel(\"Accuracy score\")\n",
    "_ = ax.set_ylabel(\"Probability\")"
   ]
  },
  {
   "cell_type": "markdown",
   "metadata": {},
   "source": [
    "替换分数与使用原始数据集获得的分数相似，因为替换总是会破坏存在的任何特征标签依赖性。\n",
    "\n",
    "在这种情况下，`在原始随机数据上获得的分数是非常差的`(一个很大的P值)，证实了`原始数据中没有特征标签依赖性`。"
   ]
  },
  {
   "cell_type": "code",
   "execution_count": 70,
   "metadata": {},
   "outputs": [
    {
     "data": {
      "image/png": "[encoded data removed]",
      "text/plain": [
       "<Figure size 432x288 with 1 Axes>"
      ]
     },
     "metadata": {
      "needs_background": "light"
     },
     "output_type": "display_data"
    }
   ],
   "source": [
    "fig, ax = plt.subplots()\n",
    "\n",
    "ax.hist(perm_scores_rand, bins=20, density=True)\n",
    "ax.set_xlim(0.13)\n",
    "ax.axvline(score_rand, ls=\"--\", color=\"r\")\n",
    "score_label = f\"Score on original\\ndata: {score_rand:.2f}\\n(p-value: {pvalue_rand:.3f})\"\n",
    "ax.text(0.14, 7.5, score_label, fontsize=12)\n",
    "ax.set_xlabel(\"Accuracy score\")\n",
    "ax.set_ylabel(\"Probability\")\n",
    "plt.show()"
   ]
  }
 ],
 "metadata": {
  "kernelspec": {
   "display_name": "Python 3.8.8 ('base')",
   "language": "python",
   "name": "python3"
  },
  "language_info": {
   "codemirror_mode": {
    "name": "ipython",
    "version": 3
   },
   "file_extension": ".py",
   "mimetype": "text/x-python",
   "name": "python",
   "nbconvert_exporter": "python",
   "pygments_lexer": "ipython3",
   "version": "3.8.8"
  },
  "orig_nbformat": 4,
  "vscode": {
   "interpreter": {
    "hash": "ffa634944d124b43d8055ea26acc48b1173df78d9bad4819808c0946ee659080"
   }
  }
 },
 "nbformat": 4,
 "nbformat_minor": 2
}
