{
 "cells": [
  {
   "cell_type": "code",
   "execution_count": 1,
   "metadata": {},
   "outputs": [],
   "source": [
    "import numpy as np\n",
    "import pandas as pd \n",
    "import warnings\n",
    "warnings.filterwarnings('ignore')\n",
    "\n",
    "from sklearn.datasets import load_boston,load_iris"
   ]
  },
  {
   "cell_type": "code",
   "execution_count": 2,
   "metadata": {},
   "outputs": [],
   "source": [
    "li = load_iris()\n",
    "features2 = li.feature_names\n",
    "x_cls ,y_cls = li.data,li.target\n",
    "x_cls = pd.DataFrame(x_cls,columns=features2)\n",
    "y_cls = pd.DataFrame(y_cls,columns=['target'])"
   ]
  },
  {
   "cell_type": "markdown",
   "metadata": {},
   "source": [
    "## 线性判别分析 -- LDA\n",
    "\n",
    "既能分类，又能降维。\n",
    "\n",
    "有监督降维：将输入数据投射到一个线性子空间，该子空间由最大限度地分离类的方向组成。这是一个相当强的降维，而且`只在多类环境中才有意义`。\n",
    "\n",
    "分类原理：利用贝叶斯规则对数据拟合类条件密度，生成具有**线性**判定边界的分类器。(该模型对每个类拟合一个高斯密度，假设所有类有相同的协方差矩阵)\n",
    "\n",
    "![20220707214646](https://cdn.jsdelivr.net/gh/xihuishawpy/PicBad@main/blogs/pictures/20220707214646.png)"
   ]
  },
  {
   "cell_type": "code",
   "execution_count": 3,
   "metadata": {},
   "outputs": [
    {
     "name": "stdout",
     "output_type": "stream",
     "text": [
      "降维后的测试集head()：\n",
      "[[-7.06855289 -0.28453898]\n",
      " [-7.90249814  0.49224403]\n",
      " [ 6.95386115  0.73300492]\n",
      " [-5.33249215 -0.00797841]\n",
      " [ 7.94536531 -0.58479048]]\n",
      "训练集精度：0.9833333333333333\n",
      "测试集精度：0.9666666666666667\n"
     ]
    }
   ],
   "source": [
    "from sklearn.model_selection import train_test_split\n",
    "from sklearn.metrics import r2_score,accuracy_score,mean_absolute_error,roc_auc_score,mean_squared_error\n",
    "from sklearn.discriminant_analysis import LinearDiscriminantAnalysis\n",
    "\n",
    "X_cls_train,X_cls_test,y_cls_train,y_cls_test = train_test_split(x_cls,y_cls,random_state=2022,test_size=0.2)\n",
    "\n",
    "lda = LinearDiscriminantAnalysis(n_components=2)  # 降维, n_components, 对拟合和预测方法没有影响\n",
    "lda.fit(X_cls_train,y_cls_train)\n",
    "lda.explained_variance_ratio_\n",
    "\n",
    "print(f'降维后的测试集head()：\\n{lda.transform(X_cls_test)[:5]}') # 降维\n",
    "\n",
    "print(f'训练集精度：{lda.score(X_cls_train,y_cls_train)}') \n",
    "\n",
    "y_cls_pred = lda.predict(X_cls_test) \n",
    "print(f'测试集精度：{accuracy_score(y_cls_test,y_cls_pred)}')"
   ]
  }
 ],
 "metadata": {
  "kernelspec": {
   "display_name": "Python 3.8.3 ('base')",
   "language": "python",
   "name": "python3"
  },
  "language_info": {
   "codemirror_mode": {
    "name": "ipython",
    "version": 3
   },
   "file_extension": ".py",
   "mimetype": "text/x-python",
   "name": "python",
   "nbconvert_exporter": "python",
   "pygments_lexer": "ipython3",
   "version": "3.8.3"
  },
  "orig_nbformat": 4,
  "vscode": {
   "interpreter": {
    "hash": "7758e92e9a61d7a3490898707f7eeb937c85e9d1e8d4e877cc6c187218f226d5"
   }
  }
 },
 "nbformat": 4,
 "nbformat_minor": 2
}
