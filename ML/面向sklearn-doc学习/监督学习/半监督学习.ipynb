{
 "cells": [
  {
   "cell_type": "markdown",
   "metadata": {},
   "source": [
    "半监督学习（Semi-supervised learning）应用于训练数据部分无标签场景。\n",
    "\n",
    "利用这些附加的未标记数据来更好地`捕获底层数据分布的形状`，并将其更好地类推广到新的样本。`当训练数据中有非常少量的有标签的点和大量的无标签的点时，这些算法可以表现良好。`\n",
    "\n",
    "一般将无标签的数据，标记为-1。"
   ]
  },
  {
   "cell_type": "markdown",
   "metadata": {},
   "source": [
    "## 自训练 -- self-training\n",
    "\n",
    "自训练的实现: 一个给定的监督分类器可以作为一个半监督分类器发挥作用，使其能够从未标记的数据中学习，`生成伪标签`。"
   ]
  },
  {
   "cell_type": "code",
   "execution_count": 15,
   "metadata": {},
   "outputs": [
    {
     "data": {
      "text/plain": [
       "array([ 0,  0,  0,  0, -1, -1, -1,  0,  0,  0, -1,  0,  0, -1, -1, -1,  0,\n",
       "        0,  0, -1,  0, -1, -1,  0,  0,  0, -1,  0,  0, -1,  0, -1, -1,  0,\n",
       "        0,  0,  0, -1,  0,  0, -1,  0, -1,  0, -1,  0,  0,  0,  0, -1,  1,\n",
       "        1,  1,  1,  1,  1, -1, -1, -1,  1,  1, -1,  1,  1, -1,  1, -1,  1,\n",
       "       -1,  1,  1, -1, -1,  1,  1,  1,  1, -1,  1, -1,  1,  1,  1, -1,  1,\n",
       "        1,  1,  1,  1,  1, -1,  1,  1,  1,  1,  1,  1,  1, -1, -1, -1,  2,\n",
       "        2,  2,  2, -1,  2,  2, -1, -1, -1, -1,  2,  2,  2,  2,  2, -1,  2,\n",
       "        2,  2,  2,  2, -1, -1,  2,  2,  2, -1,  2,  2, -1, -1,  2,  2,  2,\n",
       "        2,  2,  2,  2,  2, -1,  2,  2, -1, -1,  2,  2, -1, -1])"
      ]
     },
     "execution_count": 15,
     "metadata": {},
     "output_type": "execute_result"
    }
   ],
   "source": [
    "import numpy as np \n",
    "from sklearn import datasets\n",
    "from sklearn.semi_supervised import SelfTrainingClassifier\n",
    "from sklearn.svm import SVC\n",
    "\n",
    "iris = datasets.load_iris()\n",
    "\n",
    "# 随机造一些无标签数据行\n",
    "rng = np.random.RandomState(42)\n",
    "random_unlabeled_points = rng.rand(iris.target.shape[0]) < 0.3\n",
    "iris.target[random_unlabeled_points] = -1\n",
    "\n",
    "iris.target"
   ]
  },
  {
   "cell_type": "code",
   "execution_count": 17,
   "metadata": {},
   "outputs": [
    {
     "data": {
      "text/plain": [
       "array([0, 0, 0, 0, 0, 0, 0, 0, 0, 0, 0, 0, 0, 0, 0, 0, 0, 0, 0, 0, 0, 0,\n",
       "       0, 0, 0, 0, 0, 0, 0, 0, 0, 0, 0, 0, 0, 0, 0, 0, 0, 0, 0, 0, 0, 0,\n",
       "       0, 0, 0, 0, 0, 0, 1, 1, 1, 1, 1, 1, 1, 1, 1, 1, 1, 1, 1, 1, 1, 1,\n",
       "       1, 1, 1, 1, 2, 1, 2, 1, 1, 1, 1, 2, 1, 1, 1, 1, 1, 2, 1, 1, 1, 1,\n",
       "       1, 1, 1, 1, 1, 1, 1, 1, 1, 1, 1, 1, 2, 2, 2, 2, 2, 2, 2, 2, 2, 2,\n",
       "       2, 2, 2, 2, 2, 2, 2, 2, 2, 2, 2, 2, 2, 2, 2, 2, 2, 2, 2, 2, 2, 2,\n",
       "       2, 2, 2, 2, 2, 2, 2, 2, 2, 2, 2, 2, 2, 2, 2, 2, 2, 2])"
      ]
     },
     "execution_count": 17,
     "metadata": {},
     "output_type": "execute_result"
    }
   ],
   "source": [
    "svc = SVC(probability=True, gamma=\"auto\")\n",
    "\n",
    "# 默认按照阈值>0.75生成伪标签\n",
    "self_training_model = SelfTrainingClassifier(svc)\n",
    "self_training_model.fit(iris.data, iris.target)\n",
    "self_training_model.predict(iris.data)"
   ]
  },
  {
   "cell_type": "markdown",
   "metadata": {},
   "source": [
    "参数`criterion`，用于选择将哪些标签添加到训练集的选择标准:\n",
    "- 如果是 \"threshold\"，预测概率高于阈值的伪标签被添加到数据集。\n",
    "- 如果是 \"k_best\"，具有最高预测概率的k_best伪标签被添加到数据集。\n",
    "\n",
    "当使用 \"threshold\"时，应该使用一个经过良好校准的分类器。"
   ]
  },
  {
   "cell_type": "code",
   "execution_count": 20,
   "metadata": {},
   "outputs": [
    {
     "data": {
      "text/plain": [
       "0.66"
      ]
     },
     "execution_count": 20,
     "metadata": {},
     "output_type": "execute_result"
    }
   ],
   "source": [
    "from sklearn.metrics import accuracy_score\n",
    "\n",
    "self_training_model2 = SelfTrainingClassifier(svc,criterion='k_best',k_best=2)\n",
    "self_training_model2.fit(iris.data, iris.target)\n",
    "\n",
    "# 准确率不是很高，好像效果不太行~\n",
    "accuracy_score(iris.target,self_training_model2.predict(iris.data))"
   ]
  },
  {
   "cell_type": "markdown",
   "metadata": {},
   "source": [
    "## 标签传播 -- Label Propagation\n",
    "\n",
    "标签传播指的是`半监督图推理算法`的变种。\n",
    "\n",
    "原理：`未标注的观察值的结构与类的结构一致`，因此类的标签可以传播到训练集的未标注的观察值。\n",
    "\n",
    "该模型特点：\n",
    "- 用于分类任务\n",
    "- 用核方法将数据投射到交替的维度空间中"
   ]
  },
  {
   "cell_type": "code",
   "execution_count": 23,
   "metadata": {},
   "outputs": [
    {
     "data": {
      "text/plain": [
       "0.9866666666666667"
      ]
     },
     "execution_count": 23,
     "metadata": {},
     "output_type": "execute_result"
    }
   ],
   "source": [
    "import numpy as np\n",
    "from sklearn import datasets\n",
    "from sklearn.semi_supervised import LabelPropagation\n",
    "from sklearn.metrics import accuracy_score\n",
    "\n",
    "label_prop_model = LabelPropagation()\n",
    "\n",
    "iris = datasets.load_iris()\n",
    "rng = np.random.RandomState(42)\n",
    "random_unlabeled_points = rng.rand(len(iris.target)) < 0.3\n",
    "labels = np.copy(iris.target)\n",
    "labels[random_unlabeled_points] = -1\n",
    "\n",
    "label_prop_model.fit(iris.data, labels)\n",
    "# 这个方法比自训练效果好很多\n",
    "accuracy_score(iris.target,label_prop_model.predict(iris.data))"
   ]
  }
 ],
 "metadata": {
  "kernelspec": {
   "display_name": "Python 3.8.3 ('base')",
   "language": "python",
   "name": "python3"
  },
  "language_info": {
   "codemirror_mode": {
    "name": "ipython",
    "version": 3
   },
   "file_extension": ".py",
   "mimetype": "text/x-python",
   "name": "python",
   "nbconvert_exporter": "python",
   "pygments_lexer": "ipython3",
   "version": "3.8.3"
  },
  "orig_nbformat": 4,
  "vscode": {
   "interpreter": {
    "hash": "7758e92e9a61d7a3490898707f7eeb937c85e9d1e8d4e877cc6c187218f226d5"
   }
  }
 },
 "nbformat": 4,
 "nbformat_minor": 2
}
