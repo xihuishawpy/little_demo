{
 "cells": [
  {
   "cell_type": "markdown",
   "metadata": {},
   "source": [
    "\n",
    "![20220712100552](https://cdn.jsdelivr.net/gh/xihuishawpy/PicBad@main/blogs/pictures/20220712100552.png)\n",
    "\n",
    "对于naive bayes分类器，效果不太行，不能太认真地看待predict_proba的概率输出。"
   ]
  },
  {
   "cell_type": "code",
   "execution_count": 1,
   "metadata": {},
   "outputs": [],
   "source": [
    "import numpy as np\n",
    "import pandas as pd \n",
    "import warnings\n",
    "warnings.filterwarnings('ignore')\n",
    "\n",
    "from sklearn.datasets import load_boston,load_iris\n",
    "\n",
    "li = load_iris()\n",
    "features2 = li.feature_names\n",
    "x_cls ,y_cls = li.data,li.target\n",
    "x_cls = pd.DataFrame(x_cls,columns=features2)\n",
    "y_cls = pd.DataFrame(y_cls,columns=['target'])\n",
    "\n",
    "from sklearn.model_selection import train_test_split\n",
    "X_cls_train,X_cls_test,y_cls_train,y_cls_test = train_test_split(x_cls,y_cls,random_state=2022,test_size=0.2)"
   ]
  },
  {
   "cell_type": "markdown",
   "metadata": {},
   "source": [
    "## 高斯朴素贝叶斯 -- GaussianNB\n",
    "\n",
    "假设特征服从高斯分布.\n",
    "\n",
    "对一批样本进行`增量拟合`，`partial_fit(X, y, classes=None, sample_weight=None)`方法需要对数据集的不同块连续调用多次，以实现核外学习或在线学习。\n",
    "\n",
    "当整个数据集太大而无法立即放入内存拟合时，这个功能特别有用。\n"
   ]
  },
  {
   "cell_type": "code",
   "execution_count": 6,
   "metadata": {},
   "outputs": [
    {
     "data": {
      "text/plain": [
       "0.9666666666666667"
      ]
     },
     "execution_count": 6,
     "metadata": {},
     "output_type": "execute_result"
    }
   ],
   "source": [
    "from sklearn.naive_bayes import GaussianNB\n",
    "from sklearn.metrics import accuracy_score\n",
    "\n",
    "gn_cls = GaussianNB()\n",
    "\n",
    "# 增量拟合\n",
    "gn_cls.partial_fit(X_cls_train,y_cls_train,np.unique(y_cls_train))\n",
    "gn_cls.score(X_cls_train,y_cls_train)\n",
    "accuracy_score(y_cls_test,gn_cls.predict(X_cls_test))"
   ]
  },
  {
   "cell_type": "markdown",
   "metadata": {},
   "source": [
    "## 多项式朴素贝叶斯 -- MultinomialNB\n",
    "\n",
    "![20220712105135](https://cdn.jsdelivr.net/gh/xihuishawpy/PicBad@main/blogs/pictures/20220712105135.png)\n",
    "\n",
    "多项式朴素贝叶斯分类器适用于具有`离散特征的分类`（例如，用于文本分类的字数统计）"
   ]
  },
  {
   "cell_type": "code",
   "execution_count": 17,
   "metadata": {},
   "outputs": [
    {
     "data": {
      "text/plain": [
       "0.7333333333333333"
      ]
     },
     "execution_count": 17,
     "metadata": {},
     "output_type": "execute_result"
    }
   ],
   "source": [
    "from sklearn.naive_bayes import MultinomialNB\n",
    "\n",
    "mn_cls = MultinomialNB()\n",
    "\n",
    "# 增量拟合\n",
    "mn_cls.partial_fit(X_cls_train,y_cls_train,np.unique(y_cls_train))\n",
    "mn_cls.score(X_cls_train,y_cls_train)\n",
    "\n",
    "# 很明显，对于数值类特征表现不太好~~ \n",
    "# 毕竟P(Xi|y)的估计是计数占比来的 \n",
    "accuracy_score(y_cls_test,mn_cls.predict(X_cls_test))"
   ]
  },
  {
   "cell_type": "markdown",
   "metadata": {},
   "source": [
    "## 补充朴素贝叶斯 -- ComplementNB \n",
    "\n",
    "CNB是对标准的多项式贝叶斯（NBB）算法的改编，特别`适用于不平衡`的数据集。\n",
    "\n",
    "具体来说，`CNB使用每个类的补充的统计数据来计算模型的权重`。\n",
    "\n",
    "CNB的作者根据经验表明，`CNB的参数估计比MNB的参数估计更稳定`。CNB在文本分类任务上经常优于MNB（通常有相当大的差距）"
   ]
  },
  {
   "cell_type": "code",
   "execution_count": 18,
   "metadata": {},
   "outputs": [
    {
     "data": {
      "text/plain": [
       "0.7333333333333333"
      ]
     },
     "execution_count": 18,
     "metadata": {},
     "output_type": "execute_result"
    }
   ],
   "source": [
    "from sklearn.naive_bayes import ComplementNB\n",
    "\n",
    "cmn_cls = ComplementNB()\n",
    "\n",
    "# 增量拟合\n",
    "cmn_cls.partial_fit(X_cls_train,y_cls_train,np.unique(y_cls_train))\n",
    "cmn_cls.score(X_cls_train,y_cls_train)\n",
    "\n",
    "accuracy_score(y_cls_test,cmn_cls.predict(X_cls_test))"
   ]
  },
  {
   "cell_type": "markdown",
   "metadata": {},
   "source": [
    "## 伯努利朴素贝叶斯 -- Bernoulli Naive Bayes\n",
    "\n",
    "BernoulliNB为根据多变量Bernoulli分布的数据实现朴素贝叶斯训练和分类算法；也就是说，可能有多个特征，但每个特征都被假定为二进制值（Bernoulli，布尔值）变量。\n",
    "\n",
    "因此，该类`需要将样本表示为二进制值的特征向量`；如果交给任何其他类型的数据，BernoulliNB实例可以将其输入二进制化（取决于二进制化参数）\n",
    "\n",
    "![20220712114956](https://cdn.jsdelivr.net/gh/xihuishawpy/PicBad@main/blogs/pictures/20220712114956.png)\n",
    "\n",
    "像MultinomialNB一样，这个分类器`适用于离散数据`。区别在于，MultinomialNB可处理多分类，但`BernoulliNB是为二分类或布尔型函数而设计的`."
   ]
  },
  {
   "cell_type": "code",
   "execution_count": 19,
   "metadata": {},
   "outputs": [
    {
     "data": {
      "text/plain": [
       "0.26666666666666666"
      ]
     },
     "execution_count": 19,
     "metadata": {},
     "output_type": "execute_result"
    }
   ],
   "source": [
    "from sklearn.naive_bayes import BernoulliNB\n",
    "\n",
    "bn_cls = BernoulliNB()\n",
    "\n",
    "# 增量拟合\n",
    "bn_cls.partial_fit(X_cls_train,y_cls_train,np.unique(y_cls_train))\n",
    "bn_cls.score(X_cls_train,y_cls_train)\n",
    "\n",
    "# 很明显，对于数值类特征表现更差~~  \n",
    "accuracy_score(y_cls_test,bn_cls.predict(X_cls_test))"
   ]
  },
  {
   "cell_type": "markdown",
   "metadata": {},
   "source": [
    "## 类别朴素贝叶斯 -- CategoricalNB\n",
    "\n",
    "![20220712115505](https://cdn.jsdelivr.net/gh/xihuishawpy/PicBad@main/blogs/pictures/20220712115505.png)\n",
    "\n",
    "适用于`具有分类分布的离散特征的分类`。每个特征的类别均来自分类分布。\n"
   ]
  },
  {
   "cell_type": "code",
   "execution_count": 22,
   "metadata": {},
   "outputs": [
    {
     "data": {
      "text/plain": [
       "0.9666666666666667"
      ]
     },
     "execution_count": 22,
     "metadata": {},
     "output_type": "execute_result"
    }
   ],
   "source": [
    "from sklearn.naive_bayes import CategoricalNB\n",
    "\n",
    "cn_cls = CategoricalNB()\n",
    "\n",
    "# 增量拟合\n",
    "cn_cls.partial_fit(X_cls_train,y_cls_train,np.unique(y_cls_train))\n",
    "cn_cls.score(X_cls_train,y_cls_train)\n",
    "\n",
    "# 和高斯朴素贝叶斯的预测准确率相当，没搞懂~~ 不是说对于离散特征效果好么？？？\n",
    "accuracy_score(y_cls_test,cn_cls.predict(X_cls_test))"
   ]
  }
 ],
 "metadata": {
  "kernelspec": {
   "display_name": "Python 3.8.8 ('base')",
   "language": "python",
   "name": "python3"
  },
  "language_info": {
   "codemirror_mode": {
    "name": "ipython",
    "version": 3
   },
   "file_extension": ".py",
   "mimetype": "text/x-python",
   "name": "python",
   "nbconvert_exporter": "python",
   "pygments_lexer": "ipython3",
   "version": "3.8.8"
  },
  "orig_nbformat": 4,
  "vscode": {
   "interpreter": {
    "hash": "ffa634944d124b43d8055ea26acc48b1173df78d9bad4819808c0946ee659080"
   }
  }
 },
 "nbformat": 4,
 "nbformat_minor": 2
}
