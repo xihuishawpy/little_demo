{
 "cells": [
  {
   "cell_type": "markdown",
   "metadata": {},
   "source": [
    "![20220715132147](https://cdn.jsdelivr.net/gh/xihuishawpy/PicBad@main/blogs/pictures/20220715132147.png)\n",
    "\n",
    "![20220715132250](https://cdn.jsdelivr.net/gh/xihuishawpy/PicBad@main/blogs/pictures/20220715132250.png)"
   ]
  },
  {
   "cell_type": "markdown",
   "metadata": {},
   "source": [
    "## K-means\n",
    "\n",
    "通过把样本分离成 n 个`具有相同方差的类`的方式来聚集数据，`基于距离`的模型。\n",
    "\n",
    "算法目标--确定K，并最小化簇内平方和\n",
    "\n",
    "![20220715133333](https://cdn.jsdelivr.net/gh/xihuishawpy/PicBad@main/blogs/pictures/20220715133333.png)\n",
    "\n",
    "1. 选取K个质心；\n",
    "2. 将每个样本分配到其最近的质心；\n",
    "3. 通过分配给每个质心的所有样本的平均值来创建新的质心。计算旧的和新的质心之间的差异，直到该值小于阈值（质心不再显著移动）\n",
    "\n",
    "所以，`K-means对于圆形区域的聚类效果更好`，因为是基于均值不断更新质心，如果不是圆形区域，则可考虑基于分布的高斯混合进行聚类。"
   ]
  },
  {
   "cell_type": "code",
   "execution_count": 2,
   "metadata": {},
   "outputs": [
    {
     "name": "stdout",
     "output_type": "stream",
     "text": [
      "[1 1 1 0 0 0]\n",
      "[1 0]\n",
      "[[10.  2.]\n",
      " [ 1.  2.]]\n"
     ]
    }
   ],
   "source": [
    "from sklearn.cluster import KMeans\n",
    "import numpy as np\n",
    "\n",
    "X = np.array([[1, 2], [1, 4], [1, 0],[10, 2], [10, 4], [10, 0]])\n",
    "\n",
    "# 默认 k-means++ \n",
    "kmeans = KMeans(n_clusters=2, random_state=0,init='k-means++').fit(X)\n",
    "# 每个数据点所属类\n",
    "print(kmeans.labels_) # 或者直接 kmeans.fit_predict(X)\n",
    "print(kmeans.predict([[0, 0], [12, 3]]))\n",
    "# 聚类中心\n",
    "print(kmeans.cluster_centers_)"
   ]
  },
  {
   "cell_type": "markdown",
   "metadata": {},
   "source": [
    "## Mini Batch K-Means"
   ]
  }
 ],
 "metadata": {
  "kernelspec": {
   "display_name": "Python 3.8.8 ('base')",
   "language": "python",
   "name": "python3"
  },
  "language_info": {
   "codemirror_mode": {
    "name": "ipython",
    "version": 3
   },
   "file_extension": ".py",
   "mimetype": "text/x-python",
   "name": "python",
   "nbconvert_exporter": "python",
   "pygments_lexer": "ipython3",
   "version": "3.8.8"
  },
  "orig_nbformat": 4,
  "vscode": {
   "interpreter": {
    "hash": "ffa634944d124b43d8055ea26acc48b1173df78d9bad4819808c0946ee659080"
   }
  }
 },
 "nbformat": 4,
 "nbformat_minor": 2
}
