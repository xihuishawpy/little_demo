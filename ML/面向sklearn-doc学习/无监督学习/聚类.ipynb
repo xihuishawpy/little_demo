{
 "cells": [
  {
   "cell_type": "markdown",
   "metadata": {},
   "source": [
    "![20220715132147](https://cdn.jsdelivr.net/gh/xihuishawpy/PicBad@main/blogs/pictures/20220715132147.png)\n",
    "\n",
    "![20220715132250](https://cdn.jsdelivr.net/gh/xihuishawpy/PicBad@main/blogs/pictures/20220715132250.png)"
   ]
  },
  {
   "cell_type": "markdown",
   "metadata": {},
   "source": [
    "## K-means\n",
    "\n",
    "通过把样本分离成 n 个`具有相同方差的类`的方式来聚集数据，`基于距离`的模型。\n",
    "\n",
    "算法目标--确定K，并最小化簇内平方和\n",
    "\n",
    "![20220715133333](https://cdn.jsdelivr.net/gh/xihuishawpy/PicBad@main/blogs/pictures/20220715133333.png)\n",
    "\n",
    "1. 选取K个质心；\n",
    "2. 将每个样本分配到其最近的质心；\n",
    "3. 通过分配给每个质心的所有样本的平均值来创建新的质心。计算旧的和新的质心之间的差异，直到该值小于阈值（质心不再显著移动）\n",
    "\n",
    "所以，`K-means对于圆形区域的聚类效果更好`，因为是基于均值不断更新质心，如果不是圆形区域，则可考虑基于分布的高斯混合进行聚类。"
   ]
  }
 ],
 "metadata": {
  "kernelspec": {
   "display_name": "Python 3.8.8 ('base')",
   "language": "python",
   "name": "python3"
  },
  "language_info": {
   "name": "python",
   "version": "3.8.8"
  },
  "orig_nbformat": 4,
  "vscode": {
   "interpreter": {
    "hash": "ffa634944d124b43d8055ea26acc48b1173df78d9bad4819808c0946ee659080"
   }
  }
 },
 "nbformat": 4,
 "nbformat_minor": 2
}
