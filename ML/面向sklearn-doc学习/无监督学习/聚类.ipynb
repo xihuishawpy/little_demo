{
 "cells": [
  {
   "cell_type": "markdown",
   "metadata": {},
   "source": [
    "![20220715132147](https://cdn.jsdelivr.net/gh/xihuishawpy/PicBad@main/blogs/pictures/20220715132147.png)\n",
    "\n",
    "![20220715132250](https://cdn.jsdelivr.net/gh/xihuishawpy/PicBad@main/blogs/pictures/20220715132250.png)"
   ]
  },
  {
   "cell_type": "markdown",
   "metadata": {},
   "source": [
    "## K-means\n",
    "\n",
    "通过把样本分离成 n 个`具有相同方差的类`的方式来聚集数据\n",
    "\n",
    "算法目标--确定K，并最小化簇内平方和\n",
    "\n",
    "![20220715133333](https://cdn.jsdelivr.net/gh/xihuishawpy/PicBad@main/blogs/pictures/20220715133333.png)\n",
    "\n",
    "1. 选取K个质心；\n",
    "2. 将每个样本分配到其最近的质心；\n",
    "3. 通过分配给每个质心的所有样本的平均值来创建新的质心。计算旧的和新的质心之间的差异，直到该值小于阈值（质心不再显著移动）"
   ]
  }
 ],
 "metadata": {
  "language_info": {
   "name": "python"
  },
  "orig_nbformat": 4
 },
 "nbformat": 4,
 "nbformat_minor": 2
}
