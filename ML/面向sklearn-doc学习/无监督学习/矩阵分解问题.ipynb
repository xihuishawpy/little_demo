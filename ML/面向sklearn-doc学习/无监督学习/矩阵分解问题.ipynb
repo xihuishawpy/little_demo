{
 "cells": [
  {
   "cell_type": "markdown",
   "metadata": {},
   "source": [
    "## 主成分分析 -- Principal component analysis (PCA)"
   ]
  },
  {
   "cell_type": "markdown",
   "metadata": {},
   "source": [
    "如果过大的数据集（有大量的特征）喂入模型，就容易产生过拟合的问题，模型开始受到离群值和噪声的影响。这被称为 \"维度诅咒\"。\n",
    "\n",
    "并不是维度越大越好，维度太多模型性能反而会下降\n",
    "\n",
    "![20220718112403](https://cdn.jsdelivr.net/gh/xihuishawpy/PicBad@main/blogs/pictures/20220718112403.png)\n",
    "\n",
    "降维的最常见的方法之一是`特征抽取`，其中通过`将高维特征空间映射到低维特征空间`，进而降低维数。\n",
    "\n",
    "PCA确保原始数据集的最大信息被保留在维数减少后的数据集中，并且新获得的主成分之间的共同关系最小。解释方差定义了PCA捕获的信息量。"
   ]
  },
  {
   "cell_type": "markdown",
   "metadata": {},
   "source": [
    "PCA算法步骤：\n",
    "\n",
    "[PCA数学推导示例](https://medium.com/analytics-vidhya/understanding-principle-component-analysis-pca-step-by-step-e7a4bb4031d9#id_token=eyJhbGciOiJSUzI1NiIsImtpZCI6IjYzMWZhZTliNTk0MGEyZDFmYmZmYjAwNDAzZDRjZjgwYTIxYmUwNGUiLCJ0eXAiOiJKV1QifQ.eyJpc3MiOiJodHRwczovL2FjY291bnRzLmdvb2dsZS5jb20iLCJuYmYiOjE2NTgxMjM2MTksImF1ZCI6IjIxNjI5NjAzNTgzNC1rMWs2cWUwNjBzMnRwMmEyamFtNGxqZGNtczAwc3R0Zy5hcHBzLmdvb2dsZXVzZXJjb250ZW50LmNvbSIsInN1YiI6IjExMDUyMTQwMzQ5MDE5MzgwNDY0OCIsImVtYWlsIjoieGlodWlzaGF3MTk5NUBnbWFpbC5jb20iLCJlbWFpbF92ZXJpZmllZCI6dHJ1ZSwiYXpwIjoiMjE2Mjk2MDM1ODM0LWsxazZxZTA2MHMydHAyYTJqYW00bGpkY21zMDBzdHRnLmFwcHMuZ29vZ2xldXNlcmNvbnRlbnQuY29tIiwibmFtZSI6InhoIHNoYXciLCJwaWN0dXJlIjoiaHR0cHM6Ly9saDMuZ29vZ2xldXNlcmNvbnRlbnQuY29tL2EtL0FGZFp1Y3AzMy1adC1IUnVEcGZ3eUg4RnB6OVlpRkhkOEliZXlObjA2SWNNSWc9czk2LWMiLCJnaXZlbl9uYW1lIjoieGgiLCJmYW1pbHlfbmFtZSI6InNoYXciLCJpYXQiOjE2NTgxMjM5MTksImV4cCI6MTY1ODEyNzUxOSwianRpIjoiYzU5NmUzZTk2MjNiZjgwNGU5ZWI1MDA5Y2QwN2UwOTY2Nzc5ZWMzYyJ9.fM_J31xJUycOj5iyZaeb3WoXiU_5ibpM71rvj8yX5BXL0RUKXUC5VLK876ggPXblDTUA9lXQpMnPNimuhO0qLlj7dQqEPw0Nh6xdcL0qfGzOnjKLDQohFk2dgOIn52I1kkjGW7lz3hzH_s88rNpvynM9a9ikDaTtlblfg7di_XNfWFKVMYGxn8oAtdc-pv4qwyCP6P40TxOwddJwIQkACFtysV3vwrtpOpdTjFfRdFqRfq0_X9CFwqinDZwHqgaThUTMXVLlpM3tpCyH9jmwqvgpYEdbO8ENISpQ0FiaWSeHvc1eV7rEEATVJQ4YpREJ3ALY3940DwI94UZ2V6iHqw)\n",
    " \n",
    "1. 对数据进行标准化；\n",
    "   \n",
    "   ![20220718140245](https://cdn.jsdelivr.net/gh/xihuishawpy/PicBad@main/blogs/pictures/20220718140245.png)\n",
    "2. 计算特征的协方差矩阵；\n",
    "   \n",
    "   ![20220718140454](https://cdn.jsdelivr.net/gh/xihuishawpy/PicBad@main/blogs/pictures/20220718140454.png)\n",
    "\n",
    "   ![20220718140334](https://cdn.jsdelivr.net/gh/xihuishawpy/PicBad@main/blogs/pictures/20220718140334.png)\n",
    "\n",
    "   ![20220718140423](https://cdn.jsdelivr.net/gh/xihuishawpy/PicBad@main/blogs/pictures/20220718140423.png)\n",
    "3. 根据协方差矩阵，计算特征值与特征向量；\n",
    "   \n",
    "   - 求解特征值lambda，（|C– lambda* I|  = 0）令该行列式=0 ：\n",
    "   \n",
    "   ![20220718140741](https://cdn.jsdelivr.net/gh/xihuishawpy/PicBad@main/blogs/pictures/20220718140741.png)\n",
    "\n",
    "   ![20220718141519](https://cdn.jsdelivr.net/gh/xihuishawpy/PicBad@main/blogs/pictures/20220718141519.png)\n",
    "\n",
    "   - 代入不同lambda，求解特征向量：\n",
    "\n",
    "   ![20220718141132](https://cdn.jsdelivr.net/gh/xihuishawpy/PicBad@main/blogs/pictures/20220718141132.png)\n",
    "\n",
    "   ![20220718141214](https://cdn.jsdelivr.net/gh/xihuishawpy/PicBad@main/blogs/pictures/20220718141214.png)\n",
    "\n",
    "\n",
    "4. 按照特征值进行排序；\n",
    "5. 选取前k个特征值对应的特征向量；\n",
    "   \n",
    "   ![20220718141248](https://cdn.jsdelivr.net/gh/xihuishawpy/PicBad@main/blogs/pictures/20220718141248.png)\n",
    "6. 根据5得到的特征向量矩阵，对原始数据进行转换（Feature matrix * top k eigenvectors = Transformed Data）；\n",
    "\n",
    "   ![20220718141309](https://cdn.jsdelivr.net/gh/xihuishawpy/PicBad@main/blogs/pictures/20220718141309.png)"
   ]
  },
  {
   "cell_type": "code",
   "execution_count": 30,
   "metadata": {},
   "outputs": [
    {
     "data": {
      "text/plain": [
       "<AxesSubplot:>"
      ]
     },
     "execution_count": 30,
     "metadata": {},
     "output_type": "execute_result"
    },
    {
     "data": {
      "image/png": "[encoded data removed]",
      "text/plain": [
       "<Figure size 432x288 with 2 Axes>"
      ]
     },
     "metadata": {
      "needs_background": "light"
     },
     "output_type": "display_data"
    }
   ],
   "source": [
    "\n",
    "from sklearn import datasets\n",
    "import pandas as pd \n",
    "from sklearn.preprocessing import StandardScaler \n",
    "from sklearn.decomposition import PCA \n",
    "import seaborn as sns \n",
    "\n",
    "\n",
    "\n",
    "iris = datasets.load_iris()\n",
    "df = pd.DataFrame(iris['data'], columns = iris['feature_names'])\n",
    "\n",
    "# 标准化\n",
    "scalar = StandardScaler()\n",
    "scaled_data = pd.DataFrame(scalar.fit_transform(df)) \n",
    "\n",
    "sns.heatmap(scaled_data.corr())"
   ]
  },
  {
   "cell_type": "code",
   "execution_count": 4,
   "metadata": {},
   "outputs": [
    {
     "data": {
      "text/html": [
       "<div><div id=028f8fbf-bc26-4954-9fb8-310cf22d023d style=\"display:none; background-color:#9D6CFF; color:white; width:200px; height:30px; padding-left:5px; border-radius:4px; flex-direction:row; justify-content:space-around; align-items:center;\" onmouseover=\"this.style.backgroundColor='#BA9BF8'\" onmouseout=\"this.style.backgroundColor='#9D6CFF'\" onclick=\"window.commands?.execute('create-mitosheet-from-dataframe-output');\">See Full Dataframe in Mito</div> <script> if (window.commands?.hasCommand('create-mitosheet-from-dataframe-output')) document.getElementById('028f8fbf-bc26-4954-9fb8-310cf22d023d').style.display = 'flex' </script> <table border=\"1\" class=\"dataframe\">\n",
       "  <thead>\n",
       "    <tr style=\"text-align: right;\">\n",
       "      <th></th>\n",
       "      <th>PC1</th>\n",
       "      <th>PC2</th>\n",
       "      <th>PC3</th>\n",
       "    </tr>\n",
       "  </thead>\n",
       "  <tbody>\n",
       "    <tr>\n",
       "      <th>0</th>\n",
       "      <td>-2.264703</td>\n",
       "      <td>0.480027</td>\n",
       "      <td>-0.127706</td>\n",
       "    </tr>\n",
       "    <tr>\n",
       "      <th>1</th>\n",
       "      <td>-2.080961</td>\n",
       "      <td>-0.674134</td>\n",
       "      <td>-0.234609</td>\n",
       "    </tr>\n",
       "    <tr>\n",
       "      <th>2</th>\n",
       "      <td>-2.364229</td>\n",
       "      <td>-0.341908</td>\n",
       "      <td>0.044201</td>\n",
       "    </tr>\n",
       "    <tr>\n",
       "      <th>3</th>\n",
       "      <td>-2.299384</td>\n",
       "      <td>-0.597395</td>\n",
       "      <td>0.091290</td>\n",
       "    </tr>\n",
       "    <tr>\n",
       "      <th>4</th>\n",
       "      <td>-2.389842</td>\n",
       "      <td>0.646835</td>\n",
       "      <td>0.015738</td>\n",
       "    </tr>\n",
       "  </tbody>\n",
       "</table></div>"
      ],
      "text/plain": [
       "        PC1       PC2       PC3\n",
       "0 -2.264703  0.480027 -0.127706\n",
       "1 -2.080961 -0.674134 -0.234609\n",
       "2 -2.364229 -0.341908  0.044201\n",
       "3 -2.299384 -0.597395  0.091290\n",
       "4 -2.389842  0.646835  0.015738"
      ]
     },
     "execution_count": 4,
     "metadata": {},
     "output_type": "execute_result"
    }
   ],
   "source": [
    "# 降维\n",
    "pca = PCA(n_components = 3)\n",
    "pca.fit(scaled_data)\n",
    "\n",
    "# 转换\n",
    "data_pca = pca.transform(scaled_data)\n",
    "data_pca = pd.DataFrame(data_pca,columns=['PC1','PC2','PC3'])\n",
    "data_pca.head()"
   ]
  },
  {
   "cell_type": "code",
   "execution_count": 5,
   "metadata": {},
   "outputs": [
    {
     "data": {
      "text/plain": [
       "<AxesSubplot:>"
      ]
     },
     "execution_count": 5,
     "metadata": {},
     "output_type": "execute_result"
    },
    {
     "data": {
      "image/png": "[encoded data removed]",
      "text/plain": [
       "<Figure size 432x288 with 2 Axes>"
      ]
     },
     "metadata": {
      "needs_background": "light"
     },
     "output_type": "display_data"
    }
   ],
   "source": [
    "#Checking Co-relation between features after PCA\n",
    "sns.heatmap(data_pca.corr())"
   ]
  }
 ],
 "metadata": {
  "kernelspec": {
   "display_name": "Python 3.8.8 ('base')",
   "language": "python",
   "name": "python3"
  },
  "language_info": {
   "codemirror_mode": {
    "name": "ipython",
    "version": 3
   },
   "file_extension": ".py",
   "mimetype": "text/x-python",
   "name": "python",
   "nbconvert_exporter": "python",
   "pygments_lexer": "ipython3",
   "version": "3.8.8"
  },
  "orig_nbformat": 4,
  "vscode": {
   "interpreter": {
    "hash": "ffa634944d124b43d8055ea26acc48b1173df78d9bad4819808c0946ee659080"
   }
  }
 },
 "nbformat": 4,
 "nbformat_minor": 2
}
