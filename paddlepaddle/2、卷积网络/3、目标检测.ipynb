{
 "cells": [
  {
   "attachments": {},
   "cell_type": "markdown",
   "metadata": {},
   "source": [
    "![20221212151235](https://cdn.jsdelivr.net/gh/xihuishawpy/PicBad@main/blogs/pictures/20221212151235.png)\n",
    "\n",
    "![20221212155231](https://cdn.jsdelivr.net/gh/xihuishawpy/PicBad@main/blogs/pictures/20221212155231.png)"
   ]
  },
  {
   "attachments": {},
   "cell_type": "markdown",
   "metadata": {},
   "source": [
    "# 目标检测概念\n",
    "\n",
    "## 边界框（bounding box）\n",
    "\n",
    "需注意：图片坐标的原点在左上角，x轴向右为正方向，y轴向下为正方向。\n",
    "\n",
    "![20221212155824](https://cdn.jsdelivr.net/gh/xihuishawpy/PicBad@main/blogs/pictures/20221212155824.png)\n",
    "\n",
    "要完成一项检测任务，通常希望模型能够根据输入的图片，输出一些预测的边界框，以及边界框中所包含的物体的类别或者说属于某个类别的概率，例如这种格式: [L,P,x1,y1,x2,y2]，`L是类别标签`，`P是物体属于该类别的概率`，一张输入图片`可能会产生多个预测框`。\n",
    "\n",
    "## 锚框（Anchor box）\n",
    "\n",
    "锚框与物体边界框不同，是由人们假想出来的一种框。先设定好锚框的大小和形状，再以图像上某一个点为中心画出矩形框。\n",
    "\n",
    "在目标检测任务中，通常会`以某种规则在图片上生成一系列锚框`，将这些锚框当成可能的`候选区域`。模型对这些候选区域是否包含物体进行预测，如果包含目标物体，则还需要进一步预测出物体所属的类别。还有更为重要的一点是，由于锚框位置是固定的，它不大可能刚好跟物体边界框重合，所以需要在锚框的基础上进行微调以形成能准确描述物体位置的预测框，模型需要预测出微调的幅度。在训练过程中，模型通过学习不断的调整参数，最终能**学会如何判别出锚框所代表的候选区域是否包含物体**，如果包含物体的话，物体属于哪个类别，以及物体边界框相对于锚框位置需要调整的幅度。\n",
    "\n",
    "## 交并比\n",
    "\n",
    "![20221212161928](https://cdn.jsdelivr.net/gh/xihuishawpy/PicBad@main/blogs/pictures/20221212161928.png)\n",
    "\n",
    "# YOLO-V3\n",
    "\n",
    "![20221212161507](https://cdn.jsdelivr.net/gh/xihuishawpy/PicBad@main/blogs/pictures/20221212161507.png)\n",
    "\n",
    "![20221212162358](https://cdn.jsdelivr.net/gh/xihuishawpy/PicBad@main/blogs/pictures/20221212162358.png)"
   ]
  }
 ],
 "metadata": {
  "language_info": {
   "name": "python"
  },
  "orig_nbformat": 4
 },
 "nbformat": 4,
 "nbformat_minor": 2
}
